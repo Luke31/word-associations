{
 "cells": [
  {
   "cell_type": "markdown",
   "id": "8e245863-f6c1-42b8-9bd4-daaf76226a39",
   "metadata": {},
   "source": [
    "# Word associations\n",
    "Finding word associations for a given word and providing example representative words.\n",
    "\n",
    "\n",
    "## Goal\n",
    "Find concrete representational words for the input that can easily be visualized. Avoid abstract words and direct synonyms.\n",
    "\n",
    "## Examples\n",
    "\n",
    "Example 1:\n",
    "- Input: `up` or `上`\n",
    "- Output 1: `balloon,風船,ふうせん`\n",
    "- Output 2: `ceiling,天井,てんじょう`\n",
    "- ...\n",
    "\n",
    "Example 2:\n",
    "- Input: `down` or `下`\n",
    "- Output 1: `floor,床,ゆか`\n",
    "- Output 2: `subway,地下鉄,ちかてつ`\n",
    "\n"
   ]
  },
  {
   "cell_type": "code",
   "execution_count": 3,
   "id": "b6a1a16a-4f31-4f31-851f-8e3f5a6cc96c",
   "metadata": {},
   "outputs": [],
   "source": [
    "import pandas as pd\n",
    "import numpy as np"
   ]
  },
  {
   "cell_type": "markdown",
   "id": "a19a503c-192e-40a8-98f2-c76fdefaad98",
   "metadata": {},
   "source": [
    "# Step 1 Word embeddings corpus\n",
    "\n",
    "Load word-embeddings from the chiVe corpus: https://github.com/WorksApplications/chiVe"
   ]
  },
  {
   "cell_type": "code",
   "execution_count": 4,
   "id": "016f0703-07f3-4e8a-9c73-bc949c93f036",
   "metadata": {},
   "outputs": [],
   "source": [
    "import gensim\n",
    "\n",
    "embeddings_chive = gensim.models.KeyedVectors.load(\"data/chive/chive-1.2-mc90_gensim/chive-1.2-mc90.kv\")"
   ]
  },
  {
   "cell_type": "code",
   "execution_count": 5,
   "id": "b5a8ec4e-a05a-4a87-9c76-c857f73a5c5b",
   "metadata": {},
   "outputs": [],
   "source": [
    "input_token = '上'\n",
    "negative_token = '下'"
   ]
  },
  {
   "cell_type": "code",
   "execution_count": 6,
   "id": "2da9a659-472b-4683-abeb-e4023ecf5410",
   "metadata": {},
   "outputs": [],
   "source": [
    "input_token_embedding = embeddings_chive[input_token]"
   ]
  },
  {
   "cell_type": "markdown",
   "id": "57f4f4d7-461e-442a-9f0b-da775ac4094c",
   "metadata": {},
   "source": [
    "### Get embedding of token"
   ]
  },
  {
   "cell_type": "code",
   "execution_count": 7,
   "id": "cd315978-c361-4e03-a320-a90082401844",
   "metadata": {},
   "outputs": [
    {
     "data": {
      "text/plain": [
       "('上', array([0.05878441, 0.06310406, 0.11182886], dtype=float32))"
      ]
     },
     "execution_count": 7,
     "metadata": {},
     "output_type": "execute_result"
    }
   ],
   "source": [
    "(input_token, input_token_embedding[0:3])"
   ]
  },
  {
   "cell_type": "markdown",
   "id": "f7d1af51-7bd9-4504-9f8b-2188368759b6",
   "metadata": {
    "tags": []
   },
   "source": [
    "### Find most similar words in corpus based on word-embedding"
   ]
  },
  {
   "cell_type": "code",
   "execution_count": 8,
   "id": "1cb35236-b70d-4ba9-a29d-4dd59c325b7e",
   "metadata": {},
   "outputs": [
    {
     "name": "stdout",
     "output_type": "stream",
     "text": [
      "上: | Outputs: ['下', 'と', '様', 'て', 'に', 'を', '、', 'だけ', '其れ', 'が']\n"
     ]
    }
   ],
   "source": [
    "most_similar=[word[0] for word in embeddings_chive.most_similar('上', topn=10)]\n",
    "print(f'{input_token}: | Outputs: {most_similar}')"
   ]
  },
  {
   "cell_type": "markdown",
   "id": "f1348483-2f18-4677-8db0-573926774261",
   "metadata": {},
   "source": [
    "Most similar words contain its particles/stop words, antonyms (下), synonyms and abstract representations (様).\n",
    "\n",
    "Let's get first rid of the particles."
   ]
  },
  {
   "cell_type": "code",
   "execution_count": 9,
   "id": "7dee219a-d17c-478c-b904-f2ef3888d011",
   "metadata": {},
   "outputs": [],
   "source": [
    "token_stopwords = ['｜','|','・',' ',' ','も','の','は','が','に','へ','こと','たり','や','し','など','ない','又','なんか','方','もの','事','物',\n",
    "                   'ご','☆','ですよ','です','よ','と','で','だ','た','て','を','だけ','ます','其れ','ね','','!', '#','%','&',\"'\",'(',')','+','-','.','/','‐','―',\n",
    "                   '’','“','”','…','│','。','〇〇','〈','〉','「','」','『','』','【','】','、', '~','×',':','[',']','一','777']"
   ]
  },
  {
   "cell_type": "code",
   "execution_count": 10,
   "id": "59909bb0-dd21-4779-aa21-19c29a88f2d3",
   "metadata": {},
   "outputs": [
    {
     "name": "stdout",
     "output_type": "stream",
     "text": [
      "上: | Outputs: ['下', '様', '居る', '乗せる', '其の', '中', '其処', '場合', '乗っかる', 'ば', '此れ', '部分', '此の', '有る', '乗っける', '更に', '際', '為る', 'おく', '置く', '等', '代わり', 'から', '成る', '或いは', '所', '同様', '形', '敷く', '勿論', '若しくは', '実際', '侭', 'そして', '言う', '基本的', '為', '周り', '一般的', 'ながら', '出来る', '無い', '間', '大きな', '先ず', '時', '自体', '上部', '良く', '端', '合う', '直接', '筈', '予め', '尚且つ', '此処', '番下', '単に', 'れる', '常', '食み出る', 'より', '状態', 'みたい', '先程', '思う', '全て', '全体', '沿う', '訳', '必ず', '右側', '以外']\n"
     ]
    }
   ],
   "source": [
    "def filter_stopwords(words, token_stopwords):\n",
    "    return [word for word in words if word not in token_stopwords]\n",
    "\n",
    "most_similar=[word[0] for word in embeddings_chive.most_similar('上', topn=100)]\n",
    "most_similar_filtered_stop=filter_stopwords(most_similar, token_stopwords)\n",
    "print(f'{input_token}: | Outputs: {most_similar_filtered_stop}')"
   ]
  },
  {
   "cell_type": "markdown",
   "id": "17d7616a-5081-4a8a-aaec-aad1cbf3fdd5",
   "metadata": {},
   "source": [
    "These words are still contain antonyms, let's remove them"
   ]
  },
  {
   "cell_type": "code",
   "execution_count": 11,
   "id": "43f0326b-da92-403b-8aa6-bfebe9e21488",
   "metadata": {},
   "outputs": [
    {
     "name": "stdout",
     "output_type": "stream",
     "text": [
      "上: | Outputs: ['不特定', 'インターネット', '匿名性', 'ターネット', 'ネット', '自体', 'ンターネット', '紙媒体', '当方', '送受信', '媒体', '個人情報漏洩', 'ウェブサーバー', '客側', 'パソコン', '性質', '使う', 'ミラーリング', 'ユーザー', 'OS', 'ソフト', 'リアルタイム', '電子データ', '閲覧者', 'mtbf', 'アプリケーションソフト', 'スパム', 'dnsbl', 'PC', '電子メール', '実際', '重々', '単体', 'リティソフト', 'メールソフト', '可用性', 'windowsos', '無い', '社会通念', '物理的', 'コミュニケーションツール', '利用方法', 'オフライン', '情報量', 'クラウド', '加味', '営業目的', '実害', 'スパイウェア', 'インゲーム', '予め', 'ハードディスク', 'ウェブサービス', 'ハードウェア', 'レピュテーション', '店側', '利用状況', '善し悪し', 'パターンファイル', '乗せる', 'cifs', 'ソコン', 'MAC', 'ティソフト', '限る', '事柄', '書き込む', '御客様', 'ウェブブラウザ', '乗っける', '鵜呑み', 'usbhdd', '切り分け', 'uuid', 'linuxpc', 'データベースサーバー', 'Eメール', 'サーバー', 'bitos', '代物', '閲覧', 'ジャニオタ', 'データ', '羅列', 'ipad', '公然性', '中傷', 'バンドル', '一般ユーザー', 'DBサーバー', '思う', 'フリーズ', 'dropbox', '仕事柄', 'データ化', '信頼性', '照らし合わせる', 'ントソフト', 'googledocs', '前提']\n"
     ]
    }
   ],
   "source": [
    "most_similar=[word[0] for word in embeddings_chive.most_similar(positive=['上'], negative=['下'], topn=100)]\n",
    "most_similar_filtered_stop=filter_stopwords(most_similar, token_stopwords)\n",
    "print(f'{input_token}: | Outputs: {most_similar_filtered_stop}')"
   ]
  },
  {
   "cell_type": "markdown",
   "id": "4edccc41-716f-47db-8a48-b4c30c64af8f",
   "metadata": {},
   "source": [
    "Now it makes no sense, let's filter only nouns"
   ]
  },
  {
   "cell_type": "code",
   "execution_count": 12,
   "id": "ecea1cbe-bf3a-4801-9b65-848ad9c19ce1",
   "metadata": {},
   "outputs": [],
   "source": [
    "from sudachipy import dictionary"
   ]
  },
  {
   "cell_type": "code",
   "execution_count": 13,
   "id": "a0c07904-af78-4477-be2c-d6e0dd57830c",
   "metadata": {},
   "outputs": [],
   "source": [
    "tokenizer_obj = dictionary.Dictionary().create()  "
   ]
  },
  {
   "cell_type": "code",
   "execution_count": 38,
   "id": "e5c74d52-def0-4c3e-9f75-4239168bb91e",
   "metadata": {},
   "outputs": [
    {
     "data": {
      "text/plain": [
       "['気球',\n",
       " 'バルーン',\n",
       " '雲',\n",
       " '頭上',\n",
       " '夜空',\n",
       " '飛行機',\n",
       " '上空',\n",
       " '自機',\n",
       " '円盤',\n",
       " 'ヒコーキ',\n",
       " '筐体',\n",
       " '入道雲',\n",
       " '半透明',\n",
       " '夕空',\n",
       " '物体']"
      ]
     },
     "execution_count": 38,
     "metadata": {},
     "output_type": "execute_result"
    }
   ],
   "source": [
    "def filter_nouns(words):\n",
    "    morphemes = (tokenizer_obj.tokenize(word)[0] for word in words)\n",
    "    return [word.dictionary_form() for word in morphemes if word.part_of_speech()[0] == '名詞']\n",
    "    \n",
    "most_similar_nouns = filter_nouns(most_similar_filtered_stop)\n",
    "most_similar_nouns[0:15]"
   ]
  },
  {
   "cell_type": "markdown",
   "id": "f694c924-641e-42a1-8610-609899786d07",
   "metadata": {},
   "source": [
    "Still very far away from expected result... Let's add more synonyms"
   ]
  },
  {
   "cell_type": "code",
   "execution_count": 39,
   "id": "1292b70f-da76-4ce9-9aef-d11b7e0fcf93",
   "metadata": {},
   "outputs": [
    {
     "name": "stdout",
     "output_type": "stream",
     "text": [
      "上: | Outputs: ['気球', 'バルーン', '雲', '頭上', '夜空', '飛行機', '上空', '自機', '円盤', 'ヒコーキ', '筐体', '入道雲', '半透明', '夕空', '物体', '実機', '画面', '向こう', 'UFO', 'ヘリウムガス', '真上', '尾翼', '丸', '背面', '吹き出し', '画用紙', '水平線', '天辺', '点滅', '飛行船', '球体', '逆様', 'ボトル', '赤外線', 'ポエアリー', '一', '翼面', '立体的', '奴', '半円', '窓', 'ビー玉', '紙吹雪', '綿雲', 'デコレーション', '球形', '夕焼け', 'スヌーピー', 'ジェット', 'ジャンボジェット']\n"
     ]
    }
   ],
   "source": [
    "most_similar=[word[0] for word in embeddings_chive.most_similar(positive=['上','天井','風船','空','天面','上司'], negative=['下','床'], topn=500)]\n",
    "most_similar_filtered_stop=filter_stopwords(most_similar, token_stopwords)\n",
    "most_similar_nouns = filter_nouns(most_similar_filtered_stop)\n",
    "print(f'{input_token}: | Outputs: {most_similar_nouns[0:50]}')"
   ]
  },
  {
   "cell_type": "markdown",
   "id": "0ac2b8cd-f6e0-40bf-87ef-df7721fcaea2",
   "metadata": {},
   "source": [
    "### Add English translation"
   ]
  },
  {
   "cell_type": "code",
   "execution_count": 40,
   "id": "e03a14c1-5af1-47d4-b46e-829b1756098f",
   "metadata": {},
   "outputs": [],
   "source": [
    "import goslate\n",
    "gs = goslate.Goslate()\n",
    "from jamdict import Jamdict\n",
    "jam = Jamdict()\n"
   ]
  },
  {
   "cell_type": "code",
   "execution_count": 41,
   "id": "33e31ad1-5ef3-4fb9-a997-a4a0dfc7a001",
   "metadata": {},
   "outputs": [
    {
     "data": {
      "text/plain": [
       "'気球'"
      ]
     },
     "execution_count": 41,
     "metadata": {},
     "output_type": "execute_result"
    }
   ],
   "source": [
    "most_similar_nouns[0]"
   ]
  },
  {
   "cell_type": "code",
   "execution_count": 42,
   "id": "9ec396be-20e6-4e76-baa4-456103afba72",
   "metadata": {},
   "outputs": [
    {
     "data": {
      "text/plain": [
       "spirit/mind/heart ((noun (common) (futsuumeishi)))"
      ]
     },
     "execution_count": 42,
     "metadata": {},
     "output_type": "execute_result"
    }
   ],
   "source": [
    "result = jam.lookup(most_similar_nouns[0][0])\n",
    "result.entries[0].senses[0]"
   ]
  },
  {
   "cell_type": "code",
   "execution_count": 78,
   "id": "7ed45e94-2741-4b15-904f-3d77a66eafc3",
   "metadata": {},
   "outputs": [
    {
     "data": {
      "text/plain": [
       "[(飛行機, ひこうき, aeroplane)]"
      ]
     },
     "execution_count": 78,
     "metadata": {},
     "output_type": "execute_result"
    }
   ],
   "source": [
    "def translate_words(jp_words):\n",
    "    translated = []\n",
    "    for jp_word in jp_words:\n",
    "        result = jam.lookup(jp_word)\n",
    "        if result.entries and result.entries[0].kanji_forms:\n",
    "            result_entry = result.entries[0]\n",
    "            translated.append((result_entry.kanji_forms[0], result_entry.kana_forms[0], result_entry.senses[0].gloss[0]))\n",
    "    return translated\n",
    "translate_words(['飛行機'])"
   ]
  },
  {
   "cell_type": "code",
   "execution_count": 79,
   "id": "6fa5c37e-932f-4600-8219-7c7ca40f9cd9",
   "metadata": {},
   "outputs": [
    {
     "data": {
      "text/plain": [
       "[(気球, ききゅう, balloon),\n",
       " (雲, くも, cloud),\n",
       " (頭上, ずじょう, overhead),\n",
       " (夜空, よぞら, night sky),\n",
       " (飛行機, ひこうき, aeroplane),\n",
       " (上空, じょうくう, sky),\n",
       " (自機, じき, player character or vehicle (in video games)),\n",
       " (円盤, えんばん, disk),\n",
       " (筐体, きょうたい, case (of a machine, computer, etc.)),\n",
       " (入道雲, にゅうどうぐも, cumulonimbus),\n",
       " (半透明, はんとうめい, semi-transparent),\n",
       " (夕空, ゆうぞら, evening sky),\n",
       " (物体, ぶったい, object),\n",
       " (実機, じっき, real machine (as opposed to a model or simulation)),\n",
       " (画面, がめん, screen (of a TV, computer, etc.)),\n",
       " (向こう, むこう, opposite side),\n",
       " (ＵＦＯ, ユーフォー, unidentified flying object),\n",
       " (真上, まうえ, just above),\n",
       " (尾翼, びよく, tail (of an aircraft)),\n",
       " (丸, まる, circle),\n",
       " (背面, はいめん, rear),\n",
       " (吹き出し, ふきだし, speech balloon (in a comic strip)),\n",
       " (画用紙, がようし, drawing paper),\n",
       " (水平線, すいへいせん, horizon (related to bodies of water)),\n",
       " (天辺, てっぺん, top),\n",
       " (点滅, てんめつ, switching on and off (of a light)),\n",
       " (飛行船, ひこうせん, airship)]"
      ]
     },
     "execution_count": 79,
     "metadata": {},
     "output_type": "execute_result"
    }
   ],
   "source": [
    "translated = translate_words(most_similar_nouns[0:30])\n",
    "translated"
   ]
  },
  {
   "cell_type": "code",
   "execution_count": 83,
   "id": "9f40f53b-7c1d-4986-8dfc-cf3a9bf98488",
   "metadata": {},
   "outputs": [],
   "source": [
    "def find_words(pos, neg, n):\n",
    "    most_similar=[word[0] for word in embeddings_chive.most_similar(positive=pos, negative=neg, topn=700)]\n",
    "    most_similar_filtered_stop=filter_stopwords(most_similar, token_stopwords)\n",
    "    most_similar_nouns = filter_nouns(most_similar_filtered_stop)\n",
    "    most_similar_translate_words = translated = translate_words(most_similar_nouns[0:n])\n",
    "    return most_similar_translate_words"
   ]
  },
  {
   "cell_type": "code",
   "execution_count": 92,
   "id": "f2298ede-f1e8-4d2a-a792-79ed0b138f8f",
   "metadata": {},
   "outputs": [
    {
     "data": {
      "text/plain": [
       "[(天辺, てっぺん, top),\n",
       " (山頂, さんちょう, summit (of a mountain)),\n",
       " (雲海, うんかい, sea of clouds),\n",
       " (稜線, りょうせん, ridgeline),\n",
       " (雲, くも, cloud),\n",
       " (山, やま, mountain),\n",
       " (上部, じょうぶ, top part),\n",
       " (頭上, ずじょう, overhead),\n",
       " (上空, じょうくう, sky),\n",
       " (下界, げかい, the world),\n",
       " (三角錐, さんかくすい, triangular pyramid),\n",
       " (山々, やまやま, (many) mountains),\n",
       " (水平線, すいへいせん, horizon (related to bodies of water)),\n",
       " (中腹, ちゅうふく, halfway up (down) a mountain),\n",
       " (真上, まうえ, just above),\n",
       " (眼下, がんか, under one's eyes),\n",
       " (富士山, ふじさん, Mount Fuji),\n",
       " (夜空, よぞら, night sky),\n",
       " (地平線, ちへいせん, horizon (related to land)),\n",
       " (天空, てんくう, sky),\n",
       " (連峰, れんぽう, mountain range),\n",
       " (気球, ききゅう, balloon),\n",
       " (向こう, むこう, opposite side),\n",
       " (岩山, いわやま, rocky mountain),\n",
       " (入道雲, にゅうどうぐも, cumulonimbus),\n",
       " (景色, けしき, scenery),\n",
       " (見晴らし, みはらし, view),\n",
       " (雲間, くもま, rift between clouds),\n",
       " (半円, はんえん, semicircle),\n",
       " (雪山, ゆきやま, snowy mountain),\n",
       " (噴煙, ふんえん, (eruption of) smoke),\n",
       " (円錐, えんすい, cone),\n",
       " (絶景, ぜっけい, superb view),\n",
       " (岳, たけ, peak),\n",
       " (山肌, やまはだ, mountain's surface),\n",
       " (夕空, ゆうぞら, evening sky),\n",
       " (逆さま, さかさま, inverted),\n",
       " (御来光, ごらいこう, sunrise viewed from the top of a high mountain),\n",
       " (夕焼け, ゆうやけ, evening glow),\n",
       " (向こう側, むこうがわ, other side),\n",
       " (上段, じょうだん, upper tier),\n",
       " (冠雪, かんせつ, snow-capped peak),\n",
       " (眺望, ちょうぼう, prospect),\n",
       " (山並み, やまなみ, mountain range),\n",
       " (下側, したがわ, underside)]"
      ]
     },
     "execution_count": 92,
     "metadata": {},
     "output_type": "execute_result"
    }
   ],
   "source": [
    "words = find_words(pos=['上','頂','頂上','トップ','天井','風船','空','天面','上司'], neg=['下','床'], n=50)\n",
    "words"
   ]
  },
  {
   "cell_type": "code",
   "execution_count": 95,
   "id": "2520c99c-9e73-4b91-abc7-fdae106f0fc2",
   "metadata": {},
   "outputs": [
    {
     "data": {
      "text/plain": [
       "[(底部, ていぶ, base),\n",
       " (底なし, そこなし, bottomless),\n",
       " (上げ底, あげぞこ, false bottom),\n",
       " (内側, うちがわ, inside),\n",
       " (奥底, おくそこ, depths),\n",
       " (底割れ, そこわれ, situation where the bottom has dropped out),\n",
       " (凹み, くぼみ, hollow),\n",
       " (穴, あな, hole),\n",
       " (鍋底, なべぞこ, (inner) bottom of a pot),\n",
       " (空洞, くうどう, cave),\n",
       " (蓋, ふた, cover),\n",
       " (底面, ていめん, bottom),\n",
       " (淵, ふち, deep pool),\n",
       " (水面, すいめん, water's surface),\n",
       " (奈落, ならく, Naraka),\n",
       " (丸底, まるぞこ, round-bottom),\n",
       " (水底, すいてい, sea or river bottom),\n",
       " (裂け目, さけめ, tear),\n",
       " (楔, くさび, wedge),\n",
       " (底抜け, そこぬけ, bottomless (bucket, etc.)),\n",
       " (水抜き, みずぬき, draining (esp. pipes from water for the winter)),\n",
       " (溝, こう, 10^32),\n",
       " (足元, あしもと, at one's feet),\n",
       " (船底, せんてい, ship's bottom),\n",
       " (外側, そとがわ, exterior),\n",
       " (川底, かわぞこ, riverbed),\n",
       " (隙間, すきま, crevice),\n",
       " (支え棒, ささえぼう, stay bar),\n",
       " (上端, じょうたん, upper end),\n",
       " (淀み, よどみ, stagnation),\n",
       " (下側, したがわ, underside),\n",
       " (穴蔵, あなぐら, cellar),\n",
       " (沈澱, ちんでん, precipitation),\n",
       " (上蓋, あげぶた, trap door),\n",
       " (上部, じょうぶ, top part),\n",
       " (奥, おく, inner part),\n",
       " (中層, ちゅうそう, middle part),\n",
       " (浮き, うき, floating),\n",
       " (付け根, つけね, root)]"
      ]
     },
     "execution_count": 95,
     "metadata": {},
     "output_type": "execute_result"
    }
   ],
   "source": [
    "words = find_words(pos=['下','底'], neg=['上'], n=50)\n",
    "words"
   ]
  },
  {
   "cell_type": "code",
   "execution_count": null,
   "id": "721cdaee-8716-44bb-9f15-b1dcaee95ba9",
   "metadata": {},
   "outputs": [],
   "source": []
  }
 ],
 "metadata": {
  "kernelspec": {
   "display_name": "Python 3 (ipykernel)",
   "language": "python",
   "name": "python3"
  },
  "language_info": {
   "codemirror_mode": {
    "name": "ipython",
    "version": 3
   },
   "file_extension": ".py",
   "mimetype": "text/x-python",
   "name": "python",
   "nbconvert_exporter": "python",
   "pygments_lexer": "ipython3",
   "version": "3.10.6"
  }
 },
 "nbformat": 4,
 "nbformat_minor": 5
}
